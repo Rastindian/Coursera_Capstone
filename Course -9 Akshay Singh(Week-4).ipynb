{
    "nbformat_minor": 1, 
    "cells": [
        {
            "source": "# Assignment of Capstone Project - The Battle of Neighborhoods (Week 4)", 
            "cell_type": "markdown", 
            "metadata": {
                "collapsed": true
            }
        }, 
        {
            "source": "## Introduction (business problem)", 
            "cell_type": "markdown", 
            "metadata": {}
        }, 
        {
            "source": "Suppose we want to open a Chinese cuisine restaurant, which neighborhood in Toronto is an better location?\n\nGenerally speaking, as an private, start-up enterpreneur, the question can be put in an cost-benefit analytics framework, with fundamental rule of profit maximization. Answer to the question depends on the following sub-questions:\n\n1. Demand side Which neighborhood has the most demands on Chinese cuisine?\n2. Supply side Which neighborhood so far has the mildest competition regarding Chinese food?\n3. Market side The infrasturcure, supply chain, consumer preferences, transportation, neighborhood security, etc.\n\nLets dive deeper for further analyses, one by one", 
            "cell_type": "markdown", 
            "metadata": {}
        }, 
        {
            "source": "### Demand side", 
            "cell_type": "markdown", 
            "metadata": {}
        }, 
        {
            "source": "\nFrom the perspective of demand side, customers that may bring profits to restaurant are likely to be composed of two parts, domestic demand and external demand\n\n**Domestic demand** referes to local demands on Chinese food, mainly from inhabitants. Here are some candidate factors to take into consideration\n\n- Domestic inhabitants\n- Ethnic composition. It is safe to suppose that Asian decendents prefer Asian foods including Chinese cuisine\n- Other structural factors such as age, gender, occupation, income, and so on\n\nDue to data availability issues, in this assignment we only use the domestic inhabitants as a proxy to reflect domestic demand\n\n**External demand** referes to demands on Chinese food from those who come to this area for a short-period, for the purporses like tour, business trip, friend-visiting, and so on\n\n- In this assignment, wee do not pay much attention to the external demand. The main reason is fixed effects: the neighborhoods we compare all locate in Toronto, a nice city attracting tourists from all over the world. It is safe to assume that tourists who come to Toronto may go everywhere and eat everywhere around the whole city. In that sense, neighborhoods do not differ much from each other", 
            "cell_type": "markdown", 
            "metadata": {}
        }, 
        {
            "source": "### Supply Side", 
            "cell_type": "markdown", 
            "metadata": {}
        }, 
        {
            "source": "The level of competition imposes obvious impacts on location choice of our restaurant, from the perspective of supply side.\n\nTo put in more details, we assume that\n\n- the more restaurants there already exist in the neighborhood, the mor supply there is, and the less attractive it is for our choice, and\n- of the total number of domestic restaurants, the more proportion of Chinese cuisines, the less attractive it is, as well.", 
            "cell_type": "markdown", 
            "metadata": {}
        }, 
        {
            "source": "### Market trend", 
            "cell_type": "markdown", 
            "metadata": {}
        }, 
        {
            "source": "It is an interesting topic to discuss what the growth trend of Canadian economy will look like in the following years, which may produce positive effect on restaurant profitability. Other factors include immigrants level and composition, infrastructural improvement, sightseeing changes, and so on.\n\nHowever, in order to keep our research focuses, in this assignment we do not pay much attention to that.", 
            "cell_type": "markdown", 
            "metadata": {}
        }, 
        {
            "source": "### Sum-up", 
            "cell_type": "markdown", 
            "metadata": {}
        }, 
        {
            "source": "So we pay attention to the following factors, based on which to decide where to put ouer Chinese restaurant\n\n- domestic inhabitant number, termed as Population\n- number of restaurants, termed as Restaurant\n- decomposition of Chinese restaurants relative to other cuisines, termed as ChnPercent", 
            "cell_type": "markdown", 
            "metadata": {}
        }, 
        {
            "execution_count": null, 
            "cell_type": "code", 
            "metadata": {}, 
            "outputs": [], 
            "source": "]"
        }
    ], 
    "metadata": {
        "kernelspec": {
            "display_name": "Python 3.6", 
            "name": "python3", 
            "language": "python"
        }, 
        "language_info": {
            "mimetype": "text/x-python", 
            "nbconvert_exporter": "python", 
            "version": "3.6.8", 
            "name": "python", 
            "file_extension": ".py", 
            "pygments_lexer": "ipython3", 
            "codemirror_mode": {
                "version": 3, 
                "name": "ipython"
            }
        }
    }, 
    "nbformat": 4
}